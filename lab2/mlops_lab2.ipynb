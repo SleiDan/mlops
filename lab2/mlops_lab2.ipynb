{
  "cells": [
    {
      "cell_type": "markdown",
      "id": "160ed4bf",
      "metadata": {
        "id": "160ed4bf"
      },
      "source": [
        "#### Setup & Configuration"
      ]
    },
    {
      "cell_type": "markdown",
      "id": "a30c8567",
      "metadata": {
        "id": "a30c8567"
      },
      "source": [
        "Imports & Logging Setup"
      ]
    },
    {
      "cell_type": "code",
      "execution_count": 1,
      "id": "2285dd78",
      "metadata": {
        "id": "2285dd78"
      },
      "outputs": [],
      "source": [
        "import os\n",
        "import yaml\n",
        "import logging\n",
        "import torch\n",
        "import torchvision\n",
        "import torchvision.transforms as transforms\n",
        "import torch.nn as nn\n",
        "import torch.nn.functional as F\n",
        "from torch.utils.data import Subset, ConcatDataset, DataLoader\n",
        "from sklearn.metrics import accuracy_score, precision_score, recall_score, f1_score\n",
        "from collections import Counter\n",
        "import matplotlib.pyplot as plt\n",
        "import pandas as pd\n"
      ]
    },
    {
      "cell_type": "code",
      "execution_count": 2,
      "id": "ec412f25",
      "metadata": {
        "id": "ec412f25"
      },
      "outputs": [],
      "source": [
        "logging.basicConfig(level=logging.INFO, format='%(asctime)s - %(levelname)s - %(message)s')\n",
        "logger = logging.getLogger()\n"
      ]
    },
    {
      "cell_type": "markdown",
      "id": "b3584978",
      "metadata": {
        "id": "b3584978"
      },
      "source": [
        "#### Dataset Loading and Batching"
      ]
    },
    {
      "cell_type": "markdown",
      "id": "eac4402d",
      "metadata": {
        "id": "eac4402d"
      },
      "source": [
        "Download CIFAR-10 and apply transforms"
      ]
    },
    {
      "cell_type": "code",
      "execution_count": 3,
      "id": "4fb3ca08",
      "metadata": {
        "colab": {
          "base_uri": "https://localhost:8080/"
        },
        "id": "4fb3ca08",
        "outputId": "9aef68d4-d4f8-4d1e-eccf-ecd14074cd21"
      },
      "outputs": [
        {
          "output_type": "stream",
          "name": "stderr",
          "text": [
            "100%|██████████| 170M/170M [00:04<00:00, 41.6MB/s]\n"
          ]
        }
      ],
      "source": [
        "transform = transforms.Compose([transforms.ToTensor()])\n",
        "\n",
        "full_train_dataset = torchvision.datasets.CIFAR10(root='./data', train=True, download=True, transform=transform)\n",
        "test_dataset = torchvision.datasets.CIFAR10(root='./data', train=False, download=True, transform=transform)\n"
      ]
    },
    {
      "cell_type": "code",
      "execution_count": 5,
      "id": "29538e73",
      "metadata": {
        "colab": {
          "base_uri": "https://localhost:8080/"
        },
        "id": "29538e73",
        "outputId": "6d3e78d5-4922-45b7-9e87-b65774b0a58b"
      },
      "outputs": [
        {
          "output_type": "stream",
          "name": "stdout",
          "text": [
            "Using device: cuda\n"
          ]
        }
      ],
      "source": [
        "import yaml\n",
        "\n",
        "with open(\"config.yaml\", \"r\") as f:\n",
        "    config = yaml.safe_load(f)\n",
        "\n",
        "configurations = config[\"experiment_configs\"]\n",
        "\n",
        "if config[\"device\"] == \"auto\":\n",
        "    device = torch.device(\"cuda\" if torch.cuda.is_available() else \"cpu\")\n",
        "else:\n",
        "    device = torch.device(config[\"device\"])\n",
        "\n",
        "print(f\"Using device: {device}\")\n"
      ]
    },
    {
      "cell_type": "markdown",
      "id": "d64aa0d8",
      "metadata": {
        "id": "d64aa0d8"
      },
      "source": [
        "Split training data into batches"
      ]
    },
    {
      "cell_type": "code",
      "execution_count": 6,
      "id": "48bdd054",
      "metadata": {
        "id": "48bdd054"
      },
      "outputs": [],
      "source": [
        "def split_into_batches(dataset, batch_size):\n",
        "    total_samples = len(dataset)\n",
        "    num_batches = total_samples // batch_size\n",
        "    batches = []\n",
        "\n",
        "    for i in range(num_batches):\n",
        "        indices = list(range(i * batch_size, (i + 1) * batch_size))\n",
        "        batches.append(Subset(dataset, indices))\n",
        "\n",
        "    return batches\n",
        "\n",
        "train_batches = split_into_batches(full_train_dataset, batch_size=config[\"batch_size\"])\n",
        "logger.info(f\"{len(train_batches)} training batches created (batch size: {config['batch_size']})\")\n"
      ]
    },
    {
      "cell_type": "markdown",
      "id": "364e1ca5",
      "metadata": {
        "id": "364e1ca5"
      },
      "source": [
        "Helper function to split dataset into batches"
      ]
    },
    {
      "cell_type": "code",
      "execution_count": 7,
      "id": "32f240e8",
      "metadata": {
        "id": "32f240e8"
      },
      "outputs": [],
      "source": [
        "def split_into_batches(dataset, batch_size):\n",
        "    total_samples = len(dataset)\n",
        "    num_batches = total_samples // batch_size\n",
        "    batches = []\n",
        "\n",
        "    for i in range(num_batches):\n",
        "        start = i * batch_size\n",
        "        end = start + batch_size\n",
        "        batch_indices = list(range(start, end))\n",
        "        batch_subset = Subset(dataset, batch_indices)\n",
        "        batches.append(batch_subset)\n",
        "\n",
        "    return batches\n"
      ]
    },
    {
      "cell_type": "markdown",
      "id": "2f5e0797",
      "metadata": {
        "id": "2f5e0797"
      },
      "source": [
        "#### CNN Model Definition"
      ]
    },
    {
      "cell_type": "markdown",
      "id": "4774bcf5",
      "metadata": {
        "id": "4774bcf5"
      },
      "source": [
        "Define a simple CNN for CIFAR-10"
      ]
    },
    {
      "cell_type": "code",
      "execution_count": 9,
      "id": "5f7e6b86",
      "metadata": {
        "id": "5f7e6b86"
      },
      "outputs": [],
      "source": [
        "class SimpleCNN(nn.Module):\n",
        "    def __init__(self):\n",
        "        super(SimpleCNN, self).__init__()\n",
        "        self.conv1 = nn.Conv2d(3, 32, kernel_size=3, padding=1)\n",
        "        self.conv2 = nn.Conv2d(32, 64, kernel_size=3, padding=1)\n",
        "        self.pool = nn.MaxPool2d(2, 2)\n",
        "        self.dropout = nn.Dropout(0.25)\n",
        "        self.fc1 = nn.Linear(64 * 8 * 8, 128)\n",
        "        self.fc2 = nn.Linear(128, 10)\n",
        "\n",
        "    def forward(self, x):\n",
        "        x = self.pool(F.relu(self.conv1(x)))  # Output: [B, 32, 16, 16]\n",
        "        x = self.pool(F.relu(self.conv2(x)))  # Output: [B, 64, 8, 8]\n",
        "        x = self.dropout(x)\n",
        "        x = x.view(-1, 64 * 8 * 8)\n",
        "        x = F.relu(self.fc1(x))\n",
        "        x = self.fc2(x)\n",
        "        return x\n"
      ]
    },
    {
      "cell_type": "markdown",
      "id": "cedb7d25",
      "metadata": {
        "id": "cedb7d25"
      },
      "source": [
        "#### Training and Evaluation Utilities"
      ]
    },
    {
      "cell_type": "markdown",
      "id": "afa449fb",
      "metadata": {
        "id": "afa449fb"
      },
      "source": [
        "Training function"
      ]
    },
    {
      "cell_type": "code",
      "execution_count": 10,
      "id": "2d97ea22",
      "metadata": {
        "id": "2d97ea22"
      },
      "outputs": [],
      "source": [
        "def train(model, loader, optimizer, criterion, device):\n",
        "    model.train()\n",
        "    total_loss = 0\n",
        "    correct = 0\n",
        "    total = 0\n",
        "\n",
        "    for inputs, labels in loader:\n",
        "        inputs, labels = inputs.to(device), labels.to(device)\n",
        "\n",
        "        optimizer.zero_grad()\n",
        "        outputs = model(inputs)\n",
        "        loss = criterion(outputs, labels)\n",
        "        loss.backward()\n",
        "        optimizer.step()\n",
        "\n",
        "        total_loss += loss.item()\n",
        "        _, predicted = outputs.max(1)\n",
        "        correct += predicted.eq(labels).sum().item()\n",
        "        total += labels.size(0)\n",
        "\n",
        "    avg_loss = total_loss / len(loader)\n",
        "    accuracy = correct / total\n",
        "    return avg_loss, accuracy\n"
      ]
    },
    {
      "cell_type": "markdown",
      "id": "f1265d00",
      "metadata": {
        "id": "f1265d00"
      },
      "source": [
        "Evaluation function"
      ]
    },
    {
      "cell_type": "code",
      "execution_count": 11,
      "id": "733f2f95",
      "metadata": {
        "id": "733f2f95"
      },
      "outputs": [],
      "source": [
        "def evaluate(model, loader, criterion, device):\n",
        "    model.eval()\n",
        "    total_loss = 0\n",
        "    y_true, y_pred = [], []\n",
        "\n",
        "    with torch.no_grad():\n",
        "        for inputs, labels in loader:\n",
        "            inputs, labels = inputs.to(device), labels.to(device)\n",
        "            outputs = model(inputs)\n",
        "            loss = criterion(outputs, labels)\n",
        "            total_loss += loss.item()\n",
        "\n",
        "            _, predicted = torch.max(outputs, 1)\n",
        "            y_true.extend(labels.cpu().numpy())\n",
        "            y_pred.extend(predicted.cpu().numpy())\n",
        "\n",
        "    avg_loss = total_loss / len(loader)\n",
        "    accuracy = accuracy_score(y_true, y_pred)\n",
        "    precision = precision_score(y_true, y_pred, average='macro', zero_division=0)\n",
        "    recall = recall_score(y_true, y_pred, average='macro', zero_division=0)\n",
        "    f1 = f1_score(y_true, y_pred, average='macro', zero_division=0)\n",
        "\n",
        "    return avg_loss, accuracy, precision, recall, f1\n"
      ]
    },
    {
      "cell_type": "markdown",
      "id": "aeea4380",
      "metadata": {
        "id": "aeea4380"
      },
      "source": [
        "#### Multiple Training Configurations"
      ]
    },
    {
      "cell_type": "markdown",
      "id": "90c13d9f",
      "metadata": {
        "id": "90c13d9f"
      },
      "source": [
        "Define results list"
      ]
    },
    {
      "cell_type": "code",
      "execution_count": 12,
      "id": "3c085b1c",
      "metadata": {
        "id": "3c085b1c"
      },
      "outputs": [],
      "source": [
        "\n",
        "results = []\n"
      ]
    },
    {
      "cell_type": "markdown",
      "id": "9f7ff163",
      "metadata": {
        "id": "9f7ff163"
      },
      "source": [
        "Define one-run experiment function"
      ]
    },
    {
      "cell_type": "code",
      "execution_count": 13,
      "id": "bd8efb76",
      "metadata": {
        "id": "bd8efb76"
      },
      "outputs": [],
      "source": [
        "def run_experiment(train_batches_ids, val_batches_ids, name):\n",
        "    selected_train = [train_batches[i] for i in train_batches_ids]\n",
        "    selected_val = [train_batches[i] for i in val_batches_ids]\n",
        "\n",
        "    train_dataset = ConcatDataset(selected_train)\n",
        "    val_dataset = ConcatDataset(selected_val)\n",
        "\n",
        "    train_loader = DataLoader(train_dataset, batch_size=64, shuffle=True)\n",
        "    val_loader = DataLoader(val_dataset, batch_size=64, shuffle=False)\n",
        "    test_loader = DataLoader(test_dataset, batch_size=64, shuffle=False)\n",
        "\n",
        "    model = SimpleCNN().to(device)\n",
        "    optimizer = torch.optim.Adam(model.parameters(), lr=config[\"learning_rate\"])\n",
        "    criterion = nn.CrossEntropyLoss()\n",
        "\n",
        "    for epoch in range(config[\"train_epochs\"]):\n",
        "        print(f\"[{name}] Epoch {epoch + 1}/{config['train_epochs']}\")\n",
        "        train_loss, train_acc = train(model, train_loader, optimizer, criterion, device)\n",
        "        val_loss, val_acc, val_prec, val_rec, val_f1 = evaluate(model, val_loader, criterion, device)\n",
        "\n",
        "    test_loss, test_acc, test_prec, test_rec, test_f1 = evaluate(model, test_loader, criterion, device)\n",
        "\n",
        "    results.append({\n",
        "        \"config\": name,\n",
        "        \"train_size\": len(train_dataset),\n",
        "        \"val_size\": len(val_dataset),\n",
        "        \"test_acc\": round(test_acc, 4),\n",
        "        \"test_f1\": round(test_f1, 4),\n",
        "        \"test_prec\": round(test_prec, 4),\n",
        "        \"test_rec\": round(test_rec, 4)\n",
        "    })\n",
        "\n",
        "    logger.info(f\"[{name}] Test Accuracy: {test_acc:.4f}, F1: {test_f1:.4f}\")\n"
      ]
    },
    {
      "cell_type": "markdown",
      "id": "c789e909",
      "metadata": {
        "id": "c789e909"
      },
      "source": [
        "Run all experiments"
      ]
    },
    {
      "cell_type": "code",
      "execution_count": 14,
      "id": "1f72c189",
      "metadata": {
        "colab": {
          "base_uri": "https://localhost:8080/"
        },
        "id": "1f72c189",
        "outputId": "91f741dc-5c1d-455f-bf94-cb38e328d8e1"
      },
      "outputs": [
        {
          "output_type": "stream",
          "name": "stdout",
          "text": [
            "Running configuration: 1 batch...\n",
            "[1 batch] Epoch 1/30\n",
            "[1 batch] Epoch 2/30\n",
            "[1 batch] Epoch 3/30\n",
            "[1 batch] Epoch 4/30\n",
            "[1 batch] Epoch 5/30\n",
            "[1 batch] Epoch 6/30\n",
            "[1 batch] Epoch 7/30\n",
            "[1 batch] Epoch 8/30\n",
            "[1 batch] Epoch 9/30\n",
            "[1 batch] Epoch 10/30\n",
            "[1 batch] Epoch 11/30\n",
            "[1 batch] Epoch 12/30\n",
            "[1 batch] Epoch 13/30\n",
            "[1 batch] Epoch 14/30\n",
            "[1 batch] Epoch 15/30\n",
            "[1 batch] Epoch 16/30\n",
            "[1 batch] Epoch 17/30\n",
            "[1 batch] Epoch 18/30\n",
            "[1 batch] Epoch 19/30\n",
            "[1 batch] Epoch 20/30\n",
            "[1 batch] Epoch 21/30\n",
            "[1 batch] Epoch 22/30\n",
            "[1 batch] Epoch 23/30\n",
            "[1 batch] Epoch 24/30\n",
            "[1 batch] Epoch 25/30\n",
            "[1 batch] Epoch 26/30\n",
            "[1 batch] Epoch 27/30\n",
            "[1 batch] Epoch 28/30\n",
            "[1 batch] Epoch 29/30\n",
            "[1 batch] Epoch 30/30\n",
            "Finished 1 batch\n",
            "Running configuration: 2 batches...\n",
            "[2 batches] Epoch 1/30\n",
            "[2 batches] Epoch 2/30\n",
            "[2 batches] Epoch 3/30\n",
            "[2 batches] Epoch 4/30\n",
            "[2 batches] Epoch 5/30\n",
            "[2 batches] Epoch 6/30\n",
            "[2 batches] Epoch 7/30\n",
            "[2 batches] Epoch 8/30\n",
            "[2 batches] Epoch 9/30\n",
            "[2 batches] Epoch 10/30\n",
            "[2 batches] Epoch 11/30\n",
            "[2 batches] Epoch 12/30\n",
            "[2 batches] Epoch 13/30\n",
            "[2 batches] Epoch 14/30\n",
            "[2 batches] Epoch 15/30\n",
            "[2 batches] Epoch 16/30\n",
            "[2 batches] Epoch 17/30\n",
            "[2 batches] Epoch 18/30\n",
            "[2 batches] Epoch 19/30\n",
            "[2 batches] Epoch 20/30\n",
            "[2 batches] Epoch 21/30\n",
            "[2 batches] Epoch 22/30\n",
            "[2 batches] Epoch 23/30\n",
            "[2 batches] Epoch 24/30\n",
            "[2 batches] Epoch 25/30\n",
            "[2 batches] Epoch 26/30\n",
            "[2 batches] Epoch 27/30\n",
            "[2 batches] Epoch 28/30\n",
            "[2 batches] Epoch 29/30\n",
            "[2 batches] Epoch 30/30\n",
            "Finished 2 batches\n",
            "Running configuration: 3 batches...\n",
            "[3 batches] Epoch 1/30\n",
            "[3 batches] Epoch 2/30\n",
            "[3 batches] Epoch 3/30\n",
            "[3 batches] Epoch 4/30\n",
            "[3 batches] Epoch 5/30\n",
            "[3 batches] Epoch 6/30\n",
            "[3 batches] Epoch 7/30\n",
            "[3 batches] Epoch 8/30\n",
            "[3 batches] Epoch 9/30\n",
            "[3 batches] Epoch 10/30\n",
            "[3 batches] Epoch 11/30\n",
            "[3 batches] Epoch 12/30\n",
            "[3 batches] Epoch 13/30\n",
            "[3 batches] Epoch 14/30\n",
            "[3 batches] Epoch 15/30\n",
            "[3 batches] Epoch 16/30\n",
            "[3 batches] Epoch 17/30\n",
            "[3 batches] Epoch 18/30\n",
            "[3 batches] Epoch 19/30\n",
            "[3 batches] Epoch 20/30\n",
            "[3 batches] Epoch 21/30\n",
            "[3 batches] Epoch 22/30\n",
            "[3 batches] Epoch 23/30\n",
            "[3 batches] Epoch 24/30\n",
            "[3 batches] Epoch 25/30\n",
            "[3 batches] Epoch 26/30\n",
            "[3 batches] Epoch 27/30\n",
            "[3 batches] Epoch 28/30\n",
            "[3 batches] Epoch 29/30\n",
            "[3 batches] Epoch 30/30\n",
            "Finished 3 batches\n",
            "Running configuration: 4 batches...\n",
            "[4 batches] Epoch 1/30\n",
            "[4 batches] Epoch 2/30\n",
            "[4 batches] Epoch 3/30\n",
            "[4 batches] Epoch 4/30\n",
            "[4 batches] Epoch 5/30\n",
            "[4 batches] Epoch 6/30\n",
            "[4 batches] Epoch 7/30\n",
            "[4 batches] Epoch 8/30\n",
            "[4 batches] Epoch 9/30\n",
            "[4 batches] Epoch 10/30\n",
            "[4 batches] Epoch 11/30\n",
            "[4 batches] Epoch 12/30\n",
            "[4 batches] Epoch 13/30\n",
            "[4 batches] Epoch 14/30\n",
            "[4 batches] Epoch 15/30\n",
            "[4 batches] Epoch 16/30\n",
            "[4 batches] Epoch 17/30\n",
            "[4 batches] Epoch 18/30\n",
            "[4 batches] Epoch 19/30\n",
            "[4 batches] Epoch 20/30\n",
            "[4 batches] Epoch 21/30\n",
            "[4 batches] Epoch 22/30\n",
            "[4 batches] Epoch 23/30\n",
            "[4 batches] Epoch 24/30\n",
            "[4 batches] Epoch 25/30\n",
            "[4 batches] Epoch 26/30\n",
            "[4 batches] Epoch 27/30\n",
            "[4 batches] Epoch 28/30\n",
            "[4 batches] Epoch 29/30\n",
            "[4 batches] Epoch 30/30\n",
            "Finished 4 batches\n"
          ]
        }
      ],
      "source": [
        "for cfg in configurations:\n",
        "    print(f\"Running configuration: {cfg['name']}...\")\n",
        "    run_experiment(cfg[\"train_batches\"], cfg[\"val_batches\"], cfg[\"name\"])\n",
        "    print(f\"Finished {cfg['name']}\")\n"
      ]
    },
    {
      "cell_type": "markdown",
      "id": "22ff9ab5",
      "metadata": {
        "id": "22ff9ab5"
      },
      "source": [
        "#### Results Visualization"
      ]
    },
    {
      "cell_type": "code",
      "execution_count": 15,
      "id": "fa9cce15",
      "metadata": {
        "colab": {
          "base_uri": "https://localhost:8080/",
          "height": 175
        },
        "id": "fa9cce15",
        "outputId": "57be817c-7248-4d39-d0cd-5a47840375c3"
      },
      "outputs": [
        {
          "output_type": "display_data",
          "data": {
            "text/plain": [
              "      config  train_size  val_size  test_acc  test_f1  test_prec  test_rec\n",
              "0    1 batch       10000     10000    0.6334   0.6326     0.6337    0.6334\n",
              "1  2 batches       20000     10000    0.6686   0.6694     0.6750    0.6686\n",
              "2  3 batches       30000     10000    0.6875   0.6882     0.6932    0.6875\n",
              "3  4 batches       40000     10000    0.7174   0.7185     0.7218    0.7174"
            ],
            "text/html": [
              "\n",
              "  <div id=\"df-c8292977-4fc6-4059-8f63-c71d29bf4d62\" class=\"colab-df-container\">\n",
              "    <div>\n",
              "<style scoped>\n",
              "    .dataframe tbody tr th:only-of-type {\n",
              "        vertical-align: middle;\n",
              "    }\n",
              "\n",
              "    .dataframe tbody tr th {\n",
              "        vertical-align: top;\n",
              "    }\n",
              "\n",
              "    .dataframe thead th {\n",
              "        text-align: right;\n",
              "    }\n",
              "</style>\n",
              "<table border=\"1\" class=\"dataframe\">\n",
              "  <thead>\n",
              "    <tr style=\"text-align: right;\">\n",
              "      <th></th>\n",
              "      <th>config</th>\n",
              "      <th>train_size</th>\n",
              "      <th>val_size</th>\n",
              "      <th>test_acc</th>\n",
              "      <th>test_f1</th>\n",
              "      <th>test_prec</th>\n",
              "      <th>test_rec</th>\n",
              "    </tr>\n",
              "  </thead>\n",
              "  <tbody>\n",
              "    <tr>\n",
              "      <th>0</th>\n",
              "      <td>1 batch</td>\n",
              "      <td>10000</td>\n",
              "      <td>10000</td>\n",
              "      <td>0.6334</td>\n",
              "      <td>0.6326</td>\n",
              "      <td>0.6337</td>\n",
              "      <td>0.6334</td>\n",
              "    </tr>\n",
              "    <tr>\n",
              "      <th>1</th>\n",
              "      <td>2 batches</td>\n",
              "      <td>20000</td>\n",
              "      <td>10000</td>\n",
              "      <td>0.6686</td>\n",
              "      <td>0.6694</td>\n",
              "      <td>0.6750</td>\n",
              "      <td>0.6686</td>\n",
              "    </tr>\n",
              "    <tr>\n",
              "      <th>2</th>\n",
              "      <td>3 batches</td>\n",
              "      <td>30000</td>\n",
              "      <td>10000</td>\n",
              "      <td>0.6875</td>\n",
              "      <td>0.6882</td>\n",
              "      <td>0.6932</td>\n",
              "      <td>0.6875</td>\n",
              "    </tr>\n",
              "    <tr>\n",
              "      <th>3</th>\n",
              "      <td>4 batches</td>\n",
              "      <td>40000</td>\n",
              "      <td>10000</td>\n",
              "      <td>0.7174</td>\n",
              "      <td>0.7185</td>\n",
              "      <td>0.7218</td>\n",
              "      <td>0.7174</td>\n",
              "    </tr>\n",
              "  </tbody>\n",
              "</table>\n",
              "</div>\n",
              "    <div class=\"colab-df-buttons\">\n",
              "\n",
              "  <div class=\"colab-df-container\">\n",
              "    <button class=\"colab-df-convert\" onclick=\"convertToInteractive('df-c8292977-4fc6-4059-8f63-c71d29bf4d62')\"\n",
              "            title=\"Convert this dataframe to an interactive table.\"\n",
              "            style=\"display:none;\">\n",
              "\n",
              "  <svg xmlns=\"http://www.w3.org/2000/svg\" height=\"24px\" viewBox=\"0 -960 960 960\">\n",
              "    <path d=\"M120-120v-720h720v720H120Zm60-500h600v-160H180v160Zm220 220h160v-160H400v160Zm0 220h160v-160H400v160ZM180-400h160v-160H180v160Zm440 0h160v-160H620v160ZM180-180h160v-160H180v160Zm440 0h160v-160H620v160Z\"/>\n",
              "  </svg>\n",
              "    </button>\n",
              "\n",
              "  <style>\n",
              "    .colab-df-container {\n",
              "      display:flex;\n",
              "      gap: 12px;\n",
              "    }\n",
              "\n",
              "    .colab-df-convert {\n",
              "      background-color: #E8F0FE;\n",
              "      border: none;\n",
              "      border-radius: 50%;\n",
              "      cursor: pointer;\n",
              "      display: none;\n",
              "      fill: #1967D2;\n",
              "      height: 32px;\n",
              "      padding: 0 0 0 0;\n",
              "      width: 32px;\n",
              "    }\n",
              "\n",
              "    .colab-df-convert:hover {\n",
              "      background-color: #E2EBFA;\n",
              "      box-shadow: 0px 1px 2px rgba(60, 64, 67, 0.3), 0px 1px 3px 1px rgba(60, 64, 67, 0.15);\n",
              "      fill: #174EA6;\n",
              "    }\n",
              "\n",
              "    .colab-df-buttons div {\n",
              "      margin-bottom: 4px;\n",
              "    }\n",
              "\n",
              "    [theme=dark] .colab-df-convert {\n",
              "      background-color: #3B4455;\n",
              "      fill: #D2E3FC;\n",
              "    }\n",
              "\n",
              "    [theme=dark] .colab-df-convert:hover {\n",
              "      background-color: #434B5C;\n",
              "      box-shadow: 0px 1px 3px 1px rgba(0, 0, 0, 0.15);\n",
              "      filter: drop-shadow(0px 1px 2px rgba(0, 0, 0, 0.3));\n",
              "      fill: #FFFFFF;\n",
              "    }\n",
              "  </style>\n",
              "\n",
              "    <script>\n",
              "      const buttonEl =\n",
              "        document.querySelector('#df-c8292977-4fc6-4059-8f63-c71d29bf4d62 button.colab-df-convert');\n",
              "      buttonEl.style.display =\n",
              "        google.colab.kernel.accessAllowed ? 'block' : 'none';\n",
              "\n",
              "      async function convertToInteractive(key) {\n",
              "        const element = document.querySelector('#df-c8292977-4fc6-4059-8f63-c71d29bf4d62');\n",
              "        const dataTable =\n",
              "          await google.colab.kernel.invokeFunction('convertToInteractive',\n",
              "                                                    [key], {});\n",
              "        if (!dataTable) return;\n",
              "\n",
              "        const docLinkHtml = 'Like what you see? Visit the ' +\n",
              "          '<a target=\"_blank\" href=https://colab.research.google.com/notebooks/data_table.ipynb>data table notebook</a>'\n",
              "          + ' to learn more about interactive tables.';\n",
              "        element.innerHTML = '';\n",
              "        dataTable['output_type'] = 'display_data';\n",
              "        await google.colab.output.renderOutput(dataTable, element);\n",
              "        const docLink = document.createElement('div');\n",
              "        docLink.innerHTML = docLinkHtml;\n",
              "        element.appendChild(docLink);\n",
              "      }\n",
              "    </script>\n",
              "  </div>\n",
              "\n",
              "\n",
              "    <div id=\"df-7cde05cc-3fa4-4b06-893a-b9bc0cbca4a0\">\n",
              "      <button class=\"colab-df-quickchart\" onclick=\"quickchart('df-7cde05cc-3fa4-4b06-893a-b9bc0cbca4a0')\"\n",
              "                title=\"Suggest charts\"\n",
              "                style=\"display:none;\">\n",
              "\n",
              "<svg xmlns=\"http://www.w3.org/2000/svg\" height=\"24px\"viewBox=\"0 0 24 24\"\n",
              "     width=\"24px\">\n",
              "    <g>\n",
              "        <path d=\"M19 3H5c-1.1 0-2 .9-2 2v14c0 1.1.9 2 2 2h14c1.1 0 2-.9 2-2V5c0-1.1-.9-2-2-2zM9 17H7v-7h2v7zm4 0h-2V7h2v10zm4 0h-2v-4h2v4z\"/>\n",
              "    </g>\n",
              "</svg>\n",
              "      </button>\n",
              "\n",
              "<style>\n",
              "  .colab-df-quickchart {\n",
              "      --bg-color: #E8F0FE;\n",
              "      --fill-color: #1967D2;\n",
              "      --hover-bg-color: #E2EBFA;\n",
              "      --hover-fill-color: #174EA6;\n",
              "      --disabled-fill-color: #AAA;\n",
              "      --disabled-bg-color: #DDD;\n",
              "  }\n",
              "\n",
              "  [theme=dark] .colab-df-quickchart {\n",
              "      --bg-color: #3B4455;\n",
              "      --fill-color: #D2E3FC;\n",
              "      --hover-bg-color: #434B5C;\n",
              "      --hover-fill-color: #FFFFFF;\n",
              "      --disabled-bg-color: #3B4455;\n",
              "      --disabled-fill-color: #666;\n",
              "  }\n",
              "\n",
              "  .colab-df-quickchart {\n",
              "    background-color: var(--bg-color);\n",
              "    border: none;\n",
              "    border-radius: 50%;\n",
              "    cursor: pointer;\n",
              "    display: none;\n",
              "    fill: var(--fill-color);\n",
              "    height: 32px;\n",
              "    padding: 0;\n",
              "    width: 32px;\n",
              "  }\n",
              "\n",
              "  .colab-df-quickchart:hover {\n",
              "    background-color: var(--hover-bg-color);\n",
              "    box-shadow: 0 1px 2px rgba(60, 64, 67, 0.3), 0 1px 3px 1px rgba(60, 64, 67, 0.15);\n",
              "    fill: var(--button-hover-fill-color);\n",
              "  }\n",
              "\n",
              "  .colab-df-quickchart-complete:disabled,\n",
              "  .colab-df-quickchart-complete:disabled:hover {\n",
              "    background-color: var(--disabled-bg-color);\n",
              "    fill: var(--disabled-fill-color);\n",
              "    box-shadow: none;\n",
              "  }\n",
              "\n",
              "  .colab-df-spinner {\n",
              "    border: 2px solid var(--fill-color);\n",
              "    border-color: transparent;\n",
              "    border-bottom-color: var(--fill-color);\n",
              "    animation:\n",
              "      spin 1s steps(1) infinite;\n",
              "  }\n",
              "\n",
              "  @keyframes spin {\n",
              "    0% {\n",
              "      border-color: transparent;\n",
              "      border-bottom-color: var(--fill-color);\n",
              "      border-left-color: var(--fill-color);\n",
              "    }\n",
              "    20% {\n",
              "      border-color: transparent;\n",
              "      border-left-color: var(--fill-color);\n",
              "      border-top-color: var(--fill-color);\n",
              "    }\n",
              "    30% {\n",
              "      border-color: transparent;\n",
              "      border-left-color: var(--fill-color);\n",
              "      border-top-color: var(--fill-color);\n",
              "      border-right-color: var(--fill-color);\n",
              "    }\n",
              "    40% {\n",
              "      border-color: transparent;\n",
              "      border-right-color: var(--fill-color);\n",
              "      border-top-color: var(--fill-color);\n",
              "    }\n",
              "    60% {\n",
              "      border-color: transparent;\n",
              "      border-right-color: var(--fill-color);\n",
              "    }\n",
              "    80% {\n",
              "      border-color: transparent;\n",
              "      border-right-color: var(--fill-color);\n",
              "      border-bottom-color: var(--fill-color);\n",
              "    }\n",
              "    90% {\n",
              "      border-color: transparent;\n",
              "      border-bottom-color: var(--fill-color);\n",
              "    }\n",
              "  }\n",
              "</style>\n",
              "\n",
              "      <script>\n",
              "        async function quickchart(key) {\n",
              "          const quickchartButtonEl =\n",
              "            document.querySelector('#' + key + ' button');\n",
              "          quickchartButtonEl.disabled = true;  // To prevent multiple clicks.\n",
              "          quickchartButtonEl.classList.add('colab-df-spinner');\n",
              "          try {\n",
              "            const charts = await google.colab.kernel.invokeFunction(\n",
              "                'suggestCharts', [key], {});\n",
              "          } catch (error) {\n",
              "            console.error('Error during call to suggestCharts:', error);\n",
              "          }\n",
              "          quickchartButtonEl.classList.remove('colab-df-spinner');\n",
              "          quickchartButtonEl.classList.add('colab-df-quickchart-complete');\n",
              "        }\n",
              "        (() => {\n",
              "          let quickchartButtonEl =\n",
              "            document.querySelector('#df-7cde05cc-3fa4-4b06-893a-b9bc0cbca4a0 button');\n",
              "          quickchartButtonEl.style.display =\n",
              "            google.colab.kernel.accessAllowed ? 'block' : 'none';\n",
              "        })();\n",
              "      </script>\n",
              "    </div>\n",
              "    </div>\n",
              "  </div>\n"
            ],
            "application/vnd.google.colaboratory.intrinsic+json": {
              "type": "dataframe",
              "variable_name": "df",
              "summary": "{\n  \"name\": \"df\",\n  \"rows\": 4,\n  \"fields\": [\n    {\n      \"column\": \"config\",\n      \"properties\": {\n        \"dtype\": \"string\",\n        \"num_unique_values\": 4,\n        \"samples\": [\n          \"2 batches\",\n          \"4 batches\",\n          \"1 batch\"\n        ],\n        \"semantic_type\": \"\",\n        \"description\": \"\"\n      }\n    },\n    {\n      \"column\": \"train_size\",\n      \"properties\": {\n        \"dtype\": \"number\",\n        \"std\": 12909,\n        \"min\": 10000,\n        \"max\": 40000,\n        \"num_unique_values\": 4,\n        \"samples\": [\n          20000,\n          40000,\n          10000\n        ],\n        \"semantic_type\": \"\",\n        \"description\": \"\"\n      }\n    },\n    {\n      \"column\": \"val_size\",\n      \"properties\": {\n        \"dtype\": \"number\",\n        \"std\": 0,\n        \"min\": 10000,\n        \"max\": 10000,\n        \"num_unique_values\": 1,\n        \"samples\": [\n          10000\n        ],\n        \"semantic_type\": \"\",\n        \"description\": \"\"\n      }\n    },\n    {\n      \"column\": \"test_acc\",\n      \"properties\": {\n        \"dtype\": \"number\",\n        \"std\": 0.03518345965554461,\n        \"min\": 0.6334,\n        \"max\": 0.7174,\n        \"num_unique_values\": 4,\n        \"samples\": [\n          0.6686\n        ],\n        \"semantic_type\": \"\",\n        \"description\": \"\"\n      }\n    },\n    {\n      \"column\": \"test_f1\",\n      \"properties\": {\n        \"dtype\": \"number\",\n        \"std\": 0.03594758916348447,\n        \"min\": 0.6326,\n        \"max\": 0.7185,\n        \"num_unique_values\": 4,\n        \"samples\": [\n          0.6694\n        ],\n        \"semantic_type\": \"\",\n        \"description\": \"\"\n      }\n    },\n    {\n      \"column\": \"test_prec\",\n      \"properties\": {\n        \"dtype\": \"number\",\n        \"std\": 0.03690865977879264,\n        \"min\": 0.6337,\n        \"max\": 0.7218,\n        \"num_unique_values\": 4,\n        \"samples\": [\n          0.675\n        ],\n        \"semantic_type\": \"\",\n        \"description\": \"\"\n      }\n    },\n    {\n      \"column\": \"test_rec\",\n      \"properties\": {\n        \"dtype\": \"number\",\n        \"std\": 0.03518345965554461,\n        \"min\": 0.6334,\n        \"max\": 0.7174,\n        \"num_unique_values\": 4,\n        \"samples\": [\n          0.6686\n        ],\n        \"semantic_type\": \"\",\n        \"description\": \"\"\n      }\n    }\n  ]\n}"
            }
          },
          "metadata": {}
        }
      ],
      "source": [
        "df = pd.DataFrame(results)\n",
        "display(df)\n"
      ]
    },
    {
      "cell_type": "code",
      "execution_count": 16,
      "id": "d719d887",
      "metadata": {
        "colab": {
          "base_uri": "https://localhost:8080/",
          "height": 507
        },
        "id": "d719d887",
        "outputId": "f2fc14bd-fd52-45ee-aac4-0ae9d58d737d"
      },
      "outputs": [
        {
          "output_type": "display_data",
          "data": {
            "text/plain": [
              "<Figure size 900x500 with 1 Axes>"
            ],
            "image/png": "[encoded data removed]"
          },
          "metadata": {}
        }
      ],
      "source": [
        "import numpy as np\n",
        "\n",
        "labels = df[\"config\"]\n",
        "accuracy = df[\"test_acc\"]\n",
        "f1_score_ = df[\"test_f1\"]\n",
        "\n",
        "x = np.arange(len(labels))\n",
        "width = 0.35\n",
        "\n",
        "fig, ax = plt.subplots(figsize=(9, 5))\n",
        "rects1 = ax.bar(x - width/2, accuracy, width, label='Accuracy')\n",
        "rects2 = ax.bar(x + width/2, f1_score_, width, label='F1 Score')\n",
        "\n",
        "ax.set_ylabel('Score')\n",
        "ax.set_title('Test Accuracy and F1 Score per Configuration')\n",
        "ax.set_xticks(x)\n",
        "ax.set_xticklabels(labels)\n",
        "ax.set_ylim(0, 1.0)\n",
        "ax.legend()\n",
        "\n",
        "for rect in rects1 + rects2:\n",
        "    height = rect.get_height()\n",
        "    ax.annotate(f'{height:.2f}', xy=(rect.get_x() + rect.get_width() / 2, height),\n",
        "                xytext=(0, 3), textcoords=\"offset points\",\n",
        "                ha='center', va='bottom')\n",
        "\n",
        "plt.tight_layout()\n",
        "plt.show()\n"
      ]
    }
  ],
  "metadata": {
    "kernelspec": {
      "display_name": "Python 3",
      "name": "python3"
    },
    "language_info": {
      "codemirror_mode": {
        "name": "ipython",
        "version": 3
      },
      "file_extension": ".py",
      "mimetype": "text/x-python",
      "name": "python",
      "nbconvert_exporter": "python",
      "pygments_lexer": "ipython3",
      "version": "3.11.0"
    },
    "colab": {
      "provenance": [],
      "gpuType": "T4"
    },
    "accelerator": "GPU"
  },
  "nbformat": 4,
  "nbformat_minor": 5
}